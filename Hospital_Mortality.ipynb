{
 "cells": [
  {
   "cell_type": "code",
   "execution_count": 2,
   "metadata": {},
   "outputs": [],
   "source": [
    "import pandas as pd\n",
    "import numpy as np"
   ]
  },
  {
   "cell_type": "markdown",
   "metadata": {},
   "source": [
    "# Load data"
   ]
  },
  {
   "cell_type": "code",
   "execution_count": 358,
   "metadata": {},
   "outputs": [
    {
     "data": {
      "text/html": [
       "<div>\n",
       "<style scoped>\n",
       "    .dataframe tbody tr th:only-of-type {\n",
       "        vertical-align: middle;\n",
       "    }\n",
       "\n",
       "    .dataframe tbody tr th {\n",
       "        vertical-align: top;\n",
       "    }\n",
       "\n",
       "    .dataframe thead th {\n",
       "        text-align: right;\n",
       "    }\n",
       "</style>\n",
       "<table border=\"1\" class=\"dataframe\">\n",
       "  <thead>\n",
       "    <tr style=\"text-align: right;\">\n",
       "      <th></th>\n",
       "      <th>PATIENT_ID</th>\n",
       "      <th>Age</th>\n",
       "      <th>Gender</th>\n",
       "      <th>Height</th>\n",
       "      <th>ICUType</th>\n",
       "      <th>BUN_Min</th>\n",
       "      <th>Creatinine_Min</th>\n",
       "      <th>GCS_Min</th>\n",
       "      <th>Glucose_Min</th>\n",
       "      <th>HCO3_Min</th>\n",
       "      <th>...</th>\n",
       "      <th>Na_Range</th>\n",
       "      <th>PaCO2_Range</th>\n",
       "      <th>PaO2_Range</th>\n",
       "      <th>Platelets_Range</th>\n",
       "      <th>Temp_Range</th>\n",
       "      <th>Urine_Range</th>\n",
       "      <th>WBC_Range</th>\n",
       "      <th>Weight_Range</th>\n",
       "      <th>pH_Range</th>\n",
       "      <th>In-hospital_death</th>\n",
       "    </tr>\n",
       "  </thead>\n",
       "  <tbody>\n",
       "    <tr>\n",
       "      <th>0</th>\n",
       "      <td>132539.0</td>\n",
       "      <td>54.0</td>\n",
       "      <td>0.0</td>\n",
       "      <td>-1.0</td>\n",
       "      <td>4.0</td>\n",
       "      <td>8.0</td>\n",
       "      <td>0.7</td>\n",
       "      <td>14.0</td>\n",
       "      <td>115.0</td>\n",
       "      <td>26.0</td>\n",
       "      <td>...</td>\n",
       "      <td>1.0</td>\n",
       "      <td>NaN</td>\n",
       "      <td>NaN</td>\n",
       "      <td>36.0</td>\n",
       "      <td>3.1</td>\n",
       "      <td>900.0</td>\n",
       "      <td>1.8</td>\n",
       "      <td>0.0</td>\n",
       "      <td>NaN</td>\n",
       "      <td>0</td>\n",
       "    </tr>\n",
       "    <tr>\n",
       "      <th>1</th>\n",
       "      <td>132540.0</td>\n",
       "      <td>76.0</td>\n",
       "      <td>1.0</td>\n",
       "      <td>175.3</td>\n",
       "      <td>2.0</td>\n",
       "      <td>16.0</td>\n",
       "      <td>0.8</td>\n",
       "      <td>3.0</td>\n",
       "      <td>105.0</td>\n",
       "      <td>21.0</td>\n",
       "      <td>...</td>\n",
       "      <td>4.0</td>\n",
       "      <td>13.0</td>\n",
       "      <td>363.0</td>\n",
       "      <td>91.0</td>\n",
       "      <td>3.4</td>\n",
       "      <td>770.0</td>\n",
       "      <td>5.9</td>\n",
       "      <td>5.6</td>\n",
       "      <td>0.11</td>\n",
       "      <td>0</td>\n",
       "    </tr>\n",
       "    <tr>\n",
       "      <th>2</th>\n",
       "      <td>132541.0</td>\n",
       "      <td>44.0</td>\n",
       "      <td>0.0</td>\n",
       "      <td>-1.0</td>\n",
       "      <td>3.0</td>\n",
       "      <td>3.0</td>\n",
       "      <td>0.3</td>\n",
       "      <td>5.0</td>\n",
       "      <td>119.0</td>\n",
       "      <td>24.0</td>\n",
       "      <td>...</td>\n",
       "      <td>3.0</td>\n",
       "      <td>4.0</td>\n",
       "      <td>167.0</td>\n",
       "      <td>41.0</td>\n",
       "      <td>2.3</td>\n",
       "      <td>407.0</td>\n",
       "      <td>2.5</td>\n",
       "      <td>0.0</td>\n",
       "      <td>0.04</td>\n",
       "      <td>0</td>\n",
       "    </tr>\n",
       "    <tr>\n",
       "      <th>3</th>\n",
       "      <td>132543.0</td>\n",
       "      <td>68.0</td>\n",
       "      <td>1.0</td>\n",
       "      <td>180.3</td>\n",
       "      <td>3.0</td>\n",
       "      <td>10.0</td>\n",
       "      <td>0.7</td>\n",
       "      <td>14.0</td>\n",
       "      <td>106.0</td>\n",
       "      <td>27.0</td>\n",
       "      <td>...</td>\n",
       "      <td>4.0</td>\n",
       "      <td>NaN</td>\n",
       "      <td>NaN</td>\n",
       "      <td>107.0</td>\n",
       "      <td>1.9</td>\n",
       "      <td>600.0</td>\n",
       "      <td>3.6</td>\n",
       "      <td>0.0</td>\n",
       "      <td>NaN</td>\n",
       "      <td>0</td>\n",
       "    </tr>\n",
       "    <tr>\n",
       "      <th>4</th>\n",
       "      <td>132545.0</td>\n",
       "      <td>88.0</td>\n",
       "      <td>0.0</td>\n",
       "      <td>-1.0</td>\n",
       "      <td>3.0</td>\n",
       "      <td>25.0</td>\n",
       "      <td>1.0</td>\n",
       "      <td>15.0</td>\n",
       "      <td>92.0</td>\n",
       "      <td>18.0</td>\n",
       "      <td>...</td>\n",
       "      <td>1.0</td>\n",
       "      <td>NaN</td>\n",
       "      <td>NaN</td>\n",
       "      <td>12.0</td>\n",
       "      <td>2.0</td>\n",
       "      <td>204.0</td>\n",
       "      <td>1.0</td>\n",
       "      <td>0.0</td>\n",
       "      <td>NaN</td>\n",
       "      <td>0</td>\n",
       "    </tr>\n",
       "  </tbody>\n",
       "</table>\n",
       "<p>5 rows × 111 columns</p>\n",
       "</div>"
      ],
      "text/plain": [
       "   PATIENT_ID   Age  Gender  Height  ICUType  BUN_Min  Creatinine_Min  \\\n",
       "0    132539.0  54.0     0.0    -1.0      4.0      8.0             0.7   \n",
       "1    132540.0  76.0     1.0   175.3      2.0     16.0             0.8   \n",
       "2    132541.0  44.0     0.0    -1.0      3.0      3.0             0.3   \n",
       "3    132543.0  68.0     1.0   180.3      3.0     10.0             0.7   \n",
       "4    132545.0  88.0     0.0    -1.0      3.0     25.0             1.0   \n",
       "\n",
       "   GCS_Min  Glucose_Min  HCO3_Min  ...  Na_Range  PaCO2_Range  PaO2_Range  \\\n",
       "0     14.0        115.0      26.0  ...       1.0          NaN         NaN   \n",
       "1      3.0        105.0      21.0  ...       4.0         13.0       363.0   \n",
       "2      5.0        119.0      24.0  ...       3.0          4.0       167.0   \n",
       "3     14.0        106.0      27.0  ...       4.0          NaN         NaN   \n",
       "4     15.0         92.0      18.0  ...       1.0          NaN         NaN   \n",
       "\n",
       "   Platelets_Range  Temp_Range  Urine_Range  WBC_Range  Weight_Range  \\\n",
       "0             36.0         3.1        900.0        1.8           0.0   \n",
       "1             91.0         3.4        770.0        5.9           5.6   \n",
       "2             41.0         2.3        407.0        2.5           0.0   \n",
       "3            107.0         1.9        600.0        3.6           0.0   \n",
       "4             12.0         2.0        204.0        1.0           0.0   \n",
       "\n",
       "   pH_Range  In-hospital_death  \n",
       "0       NaN                  0  \n",
       "1      0.11                  0  \n",
       "2      0.04                  0  \n",
       "3       NaN                  0  \n",
       "4       NaN                  0  \n",
       "\n",
       "[5 rows x 111 columns]"
      ]
     },
     "execution_count": 358,
     "metadata": {},
     "output_type": "execute_result"
    }
   ],
   "source": [
    "hospital_data = pd.read_csv(r'C:\\Users\\nick2\\Downloads\\clinical_data\\clinical_data\\hospital_mortality.csv')\n",
    "hospital_data.head(5)"
   ]
  },
  {
   "cell_type": "code",
   "execution_count": 345,
   "metadata": {},
   "outputs": [
    {
     "data": {
      "text/html": [
       "<div>\n",
       "<style scoped>\n",
       "    .dataframe tbody tr th:only-of-type {\n",
       "        vertical-align: middle;\n",
       "    }\n",
       "\n",
       "    .dataframe tbody tr th {\n",
       "        vertical-align: top;\n",
       "    }\n",
       "\n",
       "    .dataframe thead th {\n",
       "        text-align: right;\n",
       "    }\n",
       "</style>\n",
       "<table border=\"1\" class=\"dataframe\">\n",
       "  <thead>\n",
       "    <tr style=\"text-align: right;\">\n",
       "      <th></th>\n",
       "      <th>PATIENT_ID</th>\n",
       "      <th>Age</th>\n",
       "      <th>Gender</th>\n",
       "      <th>Height</th>\n",
       "      <th>ICUType</th>\n",
       "      <th>BUN_Min</th>\n",
       "      <th>Creatinine_Min</th>\n",
       "      <th>GCS_Min</th>\n",
       "      <th>Glucose_Min</th>\n",
       "      <th>HCO3_Min</th>\n",
       "      <th>...</th>\n",
       "      <th>Na_Range</th>\n",
       "      <th>PaCO2_Range</th>\n",
       "      <th>PaO2_Range</th>\n",
       "      <th>Platelets_Range</th>\n",
       "      <th>Temp_Range</th>\n",
       "      <th>Urine_Range</th>\n",
       "      <th>WBC_Range</th>\n",
       "      <th>Weight_Range</th>\n",
       "      <th>pH_Range</th>\n",
       "      <th>In-hospital_death</th>\n",
       "    </tr>\n",
       "  </thead>\n",
       "  <tbody>\n",
       "    <tr>\n",
       "      <th>count</th>\n",
       "      <td>4000.000000</td>\n",
       "      <td>4000.000000</td>\n",
       "      <td>4000.000000</td>\n",
       "      <td>4000.000000</td>\n",
       "      <td>4000.000000</td>\n",
       "      <td>3936.000000</td>\n",
       "      <td>3936.000000</td>\n",
       "      <td>3936.000000</td>\n",
       "      <td>3887.000000</td>\n",
       "      <td>3924.000000</td>\n",
       "      <td>...</td>\n",
       "      <td>3925.000000</td>\n",
       "      <td>3023.000000</td>\n",
       "      <td>3023.000000</td>\n",
       "      <td>3932.000000</td>\n",
       "      <td>3936.000000</td>\n",
       "      <td>3883.000000</td>\n",
       "      <td>3927.000000</td>\n",
       "      <td>4000.000000</td>\n",
       "      <td>3040.000000</td>\n",
       "      <td>4000.000000</td>\n",
       "    </tr>\n",
       "    <tr>\n",
       "      <th>mean</th>\n",
       "      <td>137605.122000</td>\n",
       "      <td>64.247500</td>\n",
       "      <td>0.560750</td>\n",
       "      <td>88.919475</td>\n",
       "      <td>2.760000</td>\n",
       "      <td>21.922764</td>\n",
       "      <td>1.183587</td>\n",
       "      <td>8.222561</td>\n",
       "      <td>108.587857</td>\n",
       "      <td>21.847757</td>\n",
       "      <td>...</td>\n",
       "      <td>3.801019</td>\n",
       "      <td>12.925471</td>\n",
       "      <td>157.563523</td>\n",
       "      <td>54.614700</td>\n",
       "      <td>2.902947</td>\n",
       "      <td>586.457559</td>\n",
       "      <td>4.589827</td>\n",
       "      <td>3.597792</td>\n",
       "      <td>0.724138</td>\n",
       "      <td>0.138500</td>\n",
       "    </tr>\n",
       "    <tr>\n",
       "      <th>std</th>\n",
       "      <td>2923.608886</td>\n",
       "      <td>17.560946</td>\n",
       "      <td>0.497867</td>\n",
       "      <td>86.531203</td>\n",
       "      <td>1.002572</td>\n",
       "      <td>18.672749</td>\n",
       "      <td>1.208433</td>\n",
       "      <td>4.805520</td>\n",
       "      <td>29.886359</td>\n",
       "      <td>4.523173</td>\n",
       "      <td>...</td>\n",
       "      <td>3.266361</td>\n",
       "      <td>10.045247</td>\n",
       "      <td>121.089989</td>\n",
       "      <td>48.852811</td>\n",
       "      <td>6.039792</td>\n",
       "      <td>582.522376</td>\n",
       "      <td>4.897072</td>\n",
       "      <td>10.969927</td>\n",
       "      <td>19.054599</td>\n",
       "      <td>0.345467</td>\n",
       "    </tr>\n",
       "    <tr>\n",
       "      <th>min</th>\n",
       "      <td>132539.000000</td>\n",
       "      <td>15.000000</td>\n",
       "      <td>-1.000000</td>\n",
       "      <td>-1.000000</td>\n",
       "      <td>1.000000</td>\n",
       "      <td>0.000000</td>\n",
       "      <td>0.100000</td>\n",
       "      <td>3.000000</td>\n",
       "      <td>10.000000</td>\n",
       "      <td>5.000000</td>\n",
       "      <td>...</td>\n",
       "      <td>0.000000</td>\n",
       "      <td>0.000000</td>\n",
       "      <td>0.000000</td>\n",
       "      <td>0.000000</td>\n",
       "      <td>0.000000</td>\n",
       "      <td>0.000000</td>\n",
       "      <td>0.000000</td>\n",
       "      <td>0.000000</td>\n",
       "      <td>0.000000</td>\n",
       "      <td>0.000000</td>\n",
       "    </tr>\n",
       "    <tr>\n",
       "      <th>25%</th>\n",
       "      <td>135075.750000</td>\n",
       "      <td>52.750000</td>\n",
       "      <td>0.000000</td>\n",
       "      <td>-1.000000</td>\n",
       "      <td>2.000000</td>\n",
       "      <td>11.000000</td>\n",
       "      <td>0.600000</td>\n",
       "      <td>3.000000</td>\n",
       "      <td>90.000000</td>\n",
       "      <td>19.000000</td>\n",
       "      <td>...</td>\n",
       "      <td>2.000000</td>\n",
       "      <td>6.000000</td>\n",
       "      <td>51.000000</td>\n",
       "      <td>21.000000</td>\n",
       "      <td>1.400000</td>\n",
       "      <td>260.000000</td>\n",
       "      <td>1.600000</td>\n",
       "      <td>0.000000</td>\n",
       "      <td>0.060000</td>\n",
       "      <td>0.000000</td>\n",
       "    </tr>\n",
       "    <tr>\n",
       "      <th>50%</th>\n",
       "      <td>137592.500000</td>\n",
       "      <td>67.000000</td>\n",
       "      <td>1.000000</td>\n",
       "      <td>152.400000</td>\n",
       "      <td>3.000000</td>\n",
       "      <td>16.000000</td>\n",
       "      <td>0.800000</td>\n",
       "      <td>7.000000</td>\n",
       "      <td>106.000000</td>\n",
       "      <td>22.000000</td>\n",
       "      <td>...</td>\n",
       "      <td>3.000000</td>\n",
       "      <td>12.000000</td>\n",
       "      <td>136.000000</td>\n",
       "      <td>42.000000</td>\n",
       "      <td>1.900000</td>\n",
       "      <td>430.000000</td>\n",
       "      <td>3.400000</td>\n",
       "      <td>0.000000</td>\n",
       "      <td>0.110000</td>\n",
       "      <td>0.000000</td>\n",
       "    </tr>\n",
       "    <tr>\n",
       "      <th>75%</th>\n",
       "      <td>140100.250000</td>\n",
       "      <td>78.000000</td>\n",
       "      <td>1.000000</td>\n",
       "      <td>170.200000</td>\n",
       "      <td>4.000000</td>\n",
       "      <td>26.000000</td>\n",
       "      <td>1.200000</td>\n",
       "      <td>14.000000</td>\n",
       "      <td>124.000000</td>\n",
       "      <td>24.000000</td>\n",
       "      <td>...</td>\n",
       "      <td>5.000000</td>\n",
       "      <td>18.000000</td>\n",
       "      <td>261.000000</td>\n",
       "      <td>74.000000</td>\n",
       "      <td>2.500000</td>\n",
       "      <td>700.000000</td>\n",
       "      <td>6.200000</td>\n",
       "      <td>3.200000</td>\n",
       "      <td>0.180000</td>\n",
       "      <td>0.000000</td>\n",
       "    </tr>\n",
       "    <tr>\n",
       "      <th>max</th>\n",
       "      <td>142673.000000</td>\n",
       "      <td>90.000000</td>\n",
       "      <td>1.000000</td>\n",
       "      <td>431.800000</td>\n",
       "      <td>4.000000</td>\n",
       "      <td>165.000000</td>\n",
       "      <td>13.300000</td>\n",
       "      <td>15.000000</td>\n",
       "      <td>298.000000</td>\n",
       "      <td>44.000000</td>\n",
       "      <td>...</td>\n",
       "      <td>40.000000</td>\n",
       "      <td>68.000000</td>\n",
       "      <td>446.000000</td>\n",
       "      <td>496.000000</td>\n",
       "      <td>57.100000</td>\n",
       "      <td>11000.000000</td>\n",
       "      <td>129.800000</td>\n",
       "      <td>236.000000</td>\n",
       "      <td>727.680000</td>\n",
       "      <td>1.000000</td>\n",
       "    </tr>\n",
       "  </tbody>\n",
       "</table>\n",
       "<p>8 rows × 111 columns</p>\n",
       "</div>"
      ],
      "text/plain": [
       "          PATIENT_ID          Age       Gender       Height      ICUType  \\\n",
       "count    4000.000000  4000.000000  4000.000000  4000.000000  4000.000000   \n",
       "mean   137605.122000    64.247500     0.560750    88.919475     2.760000   \n",
       "std      2923.608886    17.560946     0.497867    86.531203     1.002572   \n",
       "min    132539.000000    15.000000    -1.000000    -1.000000     1.000000   \n",
       "25%    135075.750000    52.750000     0.000000    -1.000000     2.000000   \n",
       "50%    137592.500000    67.000000     1.000000   152.400000     3.000000   \n",
       "75%    140100.250000    78.000000     1.000000   170.200000     4.000000   \n",
       "max    142673.000000    90.000000     1.000000   431.800000     4.000000   \n",
       "\n",
       "           BUN_Min  Creatinine_Min      GCS_Min  Glucose_Min     HCO3_Min  \\\n",
       "count  3936.000000     3936.000000  3936.000000  3887.000000  3924.000000   \n",
       "mean     21.922764        1.183587     8.222561   108.587857    21.847757   \n",
       "std      18.672749        1.208433     4.805520    29.886359     4.523173   \n",
       "min       0.000000        0.100000     3.000000    10.000000     5.000000   \n",
       "25%      11.000000        0.600000     3.000000    90.000000    19.000000   \n",
       "50%      16.000000        0.800000     7.000000   106.000000    22.000000   \n",
       "75%      26.000000        1.200000    14.000000   124.000000    24.000000   \n",
       "max     165.000000       13.300000    15.000000   298.000000    44.000000   \n",
       "\n",
       "       ...     Na_Range  PaCO2_Range   PaO2_Range  Platelets_Range  \\\n",
       "count  ...  3925.000000  3023.000000  3023.000000      3932.000000   \n",
       "mean   ...     3.801019    12.925471   157.563523        54.614700   \n",
       "std    ...     3.266361    10.045247   121.089989        48.852811   \n",
       "min    ...     0.000000     0.000000     0.000000         0.000000   \n",
       "25%    ...     2.000000     6.000000    51.000000        21.000000   \n",
       "50%    ...     3.000000    12.000000   136.000000        42.000000   \n",
       "75%    ...     5.000000    18.000000   261.000000        74.000000   \n",
       "max    ...    40.000000    68.000000   446.000000       496.000000   \n",
       "\n",
       "        Temp_Range   Urine_Range    WBC_Range  Weight_Range     pH_Range  \\\n",
       "count  3936.000000   3883.000000  3927.000000   4000.000000  3040.000000   \n",
       "mean      2.902947    586.457559     4.589827      3.597792     0.724138   \n",
       "std       6.039792    582.522376     4.897072     10.969927    19.054599   \n",
       "min       0.000000      0.000000     0.000000      0.000000     0.000000   \n",
       "25%       1.400000    260.000000     1.600000      0.000000     0.060000   \n",
       "50%       1.900000    430.000000     3.400000      0.000000     0.110000   \n",
       "75%       2.500000    700.000000     6.200000      3.200000     0.180000   \n",
       "max      57.100000  11000.000000   129.800000    236.000000   727.680000   \n",
       "\n",
       "       In-hospital_death  \n",
       "count        4000.000000  \n",
       "mean            0.138500  \n",
       "std             0.345467  \n",
       "min             0.000000  \n",
       "25%             0.000000  \n",
       "50%             0.000000  \n",
       "75%             0.000000  \n",
       "max             1.000000  \n",
       "\n",
       "[8 rows x 111 columns]"
      ]
     },
     "execution_count": 345,
     "metadata": {},
     "output_type": "execute_result"
    }
   ],
   "source": [
    "hospital_data.describe()"
   ]
  },
  {
   "cell_type": "code",
   "execution_count": 5,
   "metadata": {},
   "outputs": [
    {
     "name": "stdout",
     "output_type": "stream",
     "text": [
      "<class 'pandas.core.frame.DataFrame'>\n",
      "RangeIndex: 4000 entries, 0 to 3999\n",
      "Columns: 111 entries, PATIENT_ID to In-hospital_death\n",
      "dtypes: float64(110), int64(1)\n",
      "memory usage: 3.4 MB\n"
     ]
    }
   ],
   "source": [
    "hospital_data.info()"
   ]
  },
  {
   "cell_type": "markdown",
   "metadata": {},
   "source": [
    "### How many patients have 20 or more missing feature values? "
   ]
  },
  {
   "cell_type": "code",
   "execution_count": 346,
   "metadata": {},
   "outputs": [
    {
     "name": "stdout",
     "output_type": "stream",
     "text": [
      "Total Number of patients having 20 or more missing feature values: 210\n"
     ]
    }
   ],
   "source": [
    "count=0\n",
    "for patient in range(0,len(hospital_data)):\n",
    "    missing_features=sum(hospital_data.iloc[patient,:].isnull())\n",
    "    if missing_features>=20:\n",
    "        count+=1\n",
    "print('Total Number of patients having 20 or more missing feature values: {}'.format(count))        "
   ]
  },
  {
   "cell_type": "markdown",
   "metadata": {},
   "source": [
    "### What’s the difference in means of HR_min for patients that died vs survived (not counting patients with HR_min of  0)?"
   ]
  },
  {
   "cell_type": "code",
   "execution_count": 7,
   "metadata": {},
   "outputs": [
    {
     "name": "stdout",
     "output_type": "stream",
     "text": [
      "Difference in means of HR_Min for patients that have died Vs Survived is 2.1886\n"
     ]
    }
   ],
   "source": [
    "# Removing patients with HR_Min=0 from data\n",
    "new_data=hospital_data[hospital_data['HR_Min']!=0]\n",
    "\n",
    "# Finding mean of HR_Min for patients that died\n",
    "died=new_data[new_data['In-hospital_death']==1]\n",
    "Mean_died=np.sum(died['HR_Min'])/len(died)\n",
    "\n",
    "# Finding mean of HR_Min for patients that survived\n",
    "survived=new_data[new_data['In-hospital_death']==0]\n",
    "Mean_survived=np.sum(survived['HR_Min'])/len(survived)\n",
    "\n",
    "# Calculating difference between two means\n",
    "diff=Mean_died-Mean_survived\n",
    "\n",
    "# I have used np.nan instead of sum() to sum to include nan in the addition\n",
    "\n",
    "print('Difference in means of HR_Min for patients that have died Vs Survived is {:.4f}'.format(diff))"
   ]
  },
  {
   "cell_type": "markdown",
   "metadata": {},
   "source": [
    "### What is the median maximum heart rate for patients whose maximum temperature was 2 degrees Celsius higher than their minimum temperature?"
   ]
  },
  {
   "cell_type": "code",
   "execution_count": 8,
   "metadata": {},
   "outputs": [
    {
     "name": "stdout",
     "output_type": "stream",
     "text": [
      "Median Maximum Heart Rate for patients whose Max Temp was 2 degrees Celsius higher than their Min Temperature is 109.0\n"
     ]
    }
   ],
   "source": [
    "import statistics\n",
    "median_HR_max=statistics.median(hospital_data[hospital_data.Temp_Max-hospital_data.Temp_Min==2]['HR_Max'])\n",
    "print('Median Maximum Heart Rate for patients whose Max Temp was 2 degrees Celsius higher than their Min Temperature is {}'.format(median_HR_max))"
   ]
  },
  {
   "cell_type": "markdown",
   "metadata": {},
   "source": [
    "### Create a plot to analyze the relationship between median temperature, outcome (died vs. survived), and age."
   ]
  },
  {
   "cell_type": "code",
   "execution_count": 400,
   "metadata": {},
   "outputs": [
    {
     "data": {
      "image/png": "[encoded data removed]",
      "text/plain": [
       "<Figure size 432x288 with 2 Axes>"
      ]
     },
     "metadata": {
      "needs_background": "light"
     },
     "output_type": "display_data"
    }
   ],
   "source": [
    "import matplotlib.pyplot as plt\n",
    "\n",
    "fig, ax1 = plt.subplots()\n",
    "ax2 = ax1.twinx()\n",
    "ax1.plot(hospital_data.Temp_Median, hospital_data.Age, 'g-')\n",
    "ax2.plot(hospital_data.Temp_Median, hospital_data['In-hospital_death'], 'b-')\n",
    "\n",
    "ax1.set_xlabel('Median_Temperature')\n",
    "ax1.set_ylabel('Age', color='g')\n",
    "ax2.set_ylabel('In-Hospital_death', color='b')\n",
    "\n",
    "plt.show()"
   ]
  },
  {
   "cell_type": "markdown",
   "metadata": {},
   "source": [
    "### Create a plot to analyze the relationship between median temperature, outcome (died vs. survived), and gender."
   ]
  },
  {
   "cell_type": "code",
   "execution_count": 401,
   "metadata": {},
   "outputs": [
    {
     "data": {
      "text/plain": [
       "<matplotlib.collections.PathCollection at 0x1b2be490>"
      ]
     },
     "execution_count": 401,
     "metadata": {},
     "output_type": "execute_result"
    },
    {
     "data": {
      "image/png": "[encoded data removed]",
      "text/plain": [
       "<Figure size 432x288 with 1 Axes>"
      ]
     },
     "metadata": {
      "needs_background": "light"
     },
     "output_type": "display_data"
    }
   ],
   "source": [
    "a=hospital_data\n",
    "plt.scatter(a.Temp_Median, a.Gender,c=a['In-hospital_death'] )"
   ]
  },
  {
   "cell_type": "markdown",
   "metadata": {},
   "source": [
    "### Build and summarize the results of a machine learning model that predicts whether a patient dies or survives in the hospital. (We do not expect a perfect or highest-accuracy solution; this is primarily an opportunity for you to show your machine learning project workflow and to document your thought process, approach to solving problems, and interpretation of results.)"
   ]
  },
  {
   "cell_type": "code",
   "execution_count": 359,
   "metadata": {},
   "outputs": [
    {
     "data": {
      "text/plain": [
       "{'BUN_Min': 64,\n",
       " 'Creatinine_Min': 64,\n",
       " 'GCS_Min': 63,\n",
       " 'Glucose_Min': 113,\n",
       " 'HCO3_Min': 76,\n",
       " 'HCT_Min': 64,\n",
       " 'HR_Min': 62,\n",
       " 'K_Min': 96,\n",
       " 'Mg_Min': 103,\n",
       " 'NIDiasABP_Min': 516,\n",
       " 'NIMAP_Min': 518,\n",
       " 'NISysABP_Min': 506,\n",
       " 'Na_Min': 75,\n",
       " 'PaCO2_Min': 976,\n",
       " 'PaO2_Min': 976,\n",
       " 'Platelets_Min': 68,\n",
       " 'Temp_Min': 63,\n",
       " 'Urine_Min': 116,\n",
       " 'WBC_Min': 73,\n",
       " 'pH_Min': 959,\n",
       " 'BUN_Max': 64,\n",
       " 'Creatinine_Max': 64,\n",
       " 'GCS_Max': 63,\n",
       " 'Glucose_Max': 113,\n",
       " 'HCO3_Max': 76,\n",
       " 'HCT_Max': 64,\n",
       " 'HR_Max': 62,\n",
       " 'K_Max': 96,\n",
       " 'Mg_Max': 103,\n",
       " 'NIDiasABP_Max': 516,\n",
       " 'NIMAP_Max': 518,\n",
       " 'NISysABP_Max': 506,\n",
       " 'Na_Max': 75,\n",
       " 'PaCO2_Max': 976,\n",
       " 'PaO2_Max': 976,\n",
       " 'Platelets_Max': 68,\n",
       " 'Temp_Max': 63,\n",
       " 'Urine_Max': 116,\n",
       " 'WBC_Max': 73,\n",
       " 'pH_Max': 959,\n",
       " 'BUN_Mean': 64,\n",
       " 'Creatinine_Mean': 64,\n",
       " 'GCS_Mean': 63,\n",
       " 'Glucose_Mean': 113,\n",
       " 'HCO3_Mean': 76,\n",
       " 'HCT_Mean': 64,\n",
       " 'HR_Mean': 62,\n",
       " 'K_Mean': 96,\n",
       " 'Mg_Mean': 103,\n",
       " 'NIDiasABP_Mean': 516,\n",
       " 'NIMAP_Mean': 518,\n",
       " 'NISysABP_Mean': 506,\n",
       " 'Na_Mean': 75,\n",
       " 'PaCO2_Mean': 976,\n",
       " 'PaO2_Mean': 976,\n",
       " 'Platelets_Mean': 68,\n",
       " 'Temp_Mean': 63,\n",
       " 'Urine_Mean': 116,\n",
       " 'WBC_Mean': 73,\n",
       " 'pH_Mean': 959,\n",
       " 'BUN_Median': 64,\n",
       " 'Creatinine_Median': 64,\n",
       " 'GCS_Median': 63,\n",
       " 'Glucose_Median': 113,\n",
       " 'HCO3_Median': 76,\n",
       " 'HCT_Median': 64,\n",
       " 'HR_Median': 62,\n",
       " 'K_Median': 96,\n",
       " 'Mg_Median': 103,\n",
       " 'NIDiasABP_Median': 516,\n",
       " 'NIMAP_Median': 518,\n",
       " 'NISysABP_Median': 506,\n",
       " 'Na_Median': 75,\n",
       " 'PaCO2_Median': 976,\n",
       " 'PaO2_Median': 976,\n",
       " 'Platelets_Median': 68,\n",
       " 'Temp_Median': 63,\n",
       " 'Urine_Median': 116,\n",
       " 'WBC_Median': 73,\n",
       " 'pH_Median': 959,\n",
       " 'BUN_Range': 64,\n",
       " 'Creatinine_Range': 64,\n",
       " 'GCS_Range': 63,\n",
       " 'Glucose_Range': 113,\n",
       " 'HCO3_Range': 76,\n",
       " 'HCT_Range': 64,\n",
       " 'HR_Range': 62,\n",
       " 'K_Range': 96,\n",
       " 'Mg_Range': 103,\n",
       " 'NIDiasABP_Range': 516,\n",
       " 'NIMAP_Range': 518,\n",
       " 'NISysABP_Range': 506,\n",
       " 'Na_Range': 75,\n",
       " 'PaCO2_Range': 976,\n",
       " 'PaO2_Range': 976,\n",
       " 'Platelets_Range': 68,\n",
       " 'Temp_Range': 63,\n",
       " 'Urine_Range': 116,\n",
       " 'WBC_Range': 73,\n",
       " 'pH_Range': 959}"
      ]
     },
     "execution_count": 359,
     "metadata": {},
     "output_type": "execute_result"
    }
   ],
   "source": [
    "# Removing samples for which Gender is other than 0 and 1\n",
    "hospital_data=hospital_data[hospital_data.Gender!=-1]\n",
    "# Finding Null values in each of the columns/features\n",
    "columns=hospital_data.columns\n",
    "Null_value_columns={}\n",
    "for i in range(0,len(columns)):\n",
    "    a=sum(hospital_data[columns[i]].isnull())\n",
    "    if a>0:\n",
    "        Null_value_columns[columns.values[i]]=a\n",
    "Null_value_columns  "
   ]
  },
  {
   "cell_type": "markdown",
   "metadata": {},
   "source": [
    "- There were three samples for which Gender is not equal to 0 and 1, I have removed them from the data. As per Data Dictionary only two valid values for Gender are given.\n",
    "- There are few columns which have more than 500 null values which is more than 12.5% of the total sample that we have. I cannot drop these many samples as I will lose a lot of information doing it, neither I can impute these missing values beacuse it will add bias to the data.\n",
    "- So I am removing such columns with so many missing values from the analysis"
   ]
  },
  {
   "cell_type": "code",
   "execution_count": 360,
   "metadata": {},
   "outputs": [],
   "source": [
    "hospital_data=hospital_data.drop(columns=['PATIENT_ID','NIDiasABP_Min','NIMAP_Min','NISysABP_Min','PaCO2_Min','PaO2_Min','pH_Mean','NIDiasABP_Max',\n",
    "'NIMAP_Max','NISysABP_Max','PaCO2_Max','PaO2_Max','pH_Max', 'NIDiasABP_Mean','NIMAP_Mean',\n",
    "'NISysABP_Mean','PaCO2_Mean','PaO2_Mean','pH_Mean','NIDiasABP_Median','NIMAP_Median',\n",
    "'NISysABP_Median','PaCO2_Median','PaO2_Median','pH_Median','NIDiasABP_Range','NIMAP_Range',\n",
    "'NISysABP_Range','PaCO2_Range','PaO2_Range','pH_Range','pH_Min'], axis=1)"
   ]
  },
  {
   "cell_type": "markdown",
   "metadata": {},
   "source": [
    "- Now that I have removed these columns, I am replacing rest of the null values with column's median to capture the common values for each of the columns.\n",
    "- I have also dropped patient_id as it is not going to make any contribution to the prediction.\n",
    "- Each of these columns have missing values between 63 to 113 which is between 1.5% to 3% of the total samples that we have. Imputing these values makes sense.\n"
   ]
  },
  {
   "cell_type": "code",
   "execution_count": 361,
   "metadata": {},
   "outputs": [],
   "source": [
    "# Replacing Null values with the median of each column\n",
    "hospital_data=hospital_data.fillna(hospital_data.median())"
   ]
  },
  {
   "cell_type": "code",
   "execution_count": 362,
   "metadata": {},
   "outputs": [
    {
     "data": {
      "text/plain": [
       "Age                  False\n",
       "Gender               False\n",
       "Height               False\n",
       "ICUType              False\n",
       "BUN_Min              False\n",
       "Creatinine_Min       False\n",
       "GCS_Min              False\n",
       "Glucose_Min          False\n",
       "HCO3_Min             False\n",
       "HCT_Min              False\n",
       "HR_Min               False\n",
       "K_Min                False\n",
       "Mg_Min               False\n",
       "Na_Min               False\n",
       "Platelets_Min        False\n",
       "Temp_Min             False\n",
       "Urine_Min            False\n",
       "WBC_Min              False\n",
       "Weight_Min           False\n",
       "BUN_Max              False\n",
       "Creatinine_Max       False\n",
       "GCS_Max              False\n",
       "Glucose_Max          False\n",
       "HCO3_Max             False\n",
       "HCT_Max              False\n",
       "HR_Max               False\n",
       "K_Max                False\n",
       "Mg_Max               False\n",
       "Na_Max               False\n",
       "Platelets_Max        False\n",
       "                     ...  \n",
       "Creatinine_Median    False\n",
       "GCS_Median           False\n",
       "Glucose_Median       False\n",
       "HCO3_Median          False\n",
       "HCT_Median           False\n",
       "HR_Median            False\n",
       "K_Median             False\n",
       "Mg_Median            False\n",
       "Na_Median            False\n",
       "Platelets_Median     False\n",
       "Temp_Median          False\n",
       "Urine_Median         False\n",
       "WBC_Median           False\n",
       "Weight_Median        False\n",
       "BUN_Range            False\n",
       "Creatinine_Range     False\n",
       "GCS_Range            False\n",
       "Glucose_Range        False\n",
       "HCO3_Range           False\n",
       "HCT_Range            False\n",
       "HR_Range             False\n",
       "K_Range              False\n",
       "Mg_Range             False\n",
       "Na_Range             False\n",
       "Platelets_Range      False\n",
       "Temp_Range           False\n",
       "Urine_Range          False\n",
       "WBC_Range            False\n",
       "Weight_Range         False\n",
       "In-hospital_death    False\n",
       "Length: 80, dtype: bool"
      ]
     },
     "execution_count": 362,
     "metadata": {},
     "output_type": "execute_result"
    }
   ],
   "source": [
    "hospital_data.isnull().any()"
   ]
  },
  {
   "cell_type": "code",
   "execution_count": 350,
   "metadata": {
    "scrolled": true
   },
   "outputs": [
    {
     "data": {
      "text/html": [
       "<div>\n",
       "<style scoped>\n",
       "    .dataframe tbody tr th:only-of-type {\n",
       "        vertical-align: middle;\n",
       "    }\n",
       "\n",
       "    .dataframe tbody tr th {\n",
       "        vertical-align: top;\n",
       "    }\n",
       "\n",
       "    .dataframe thead th {\n",
       "        text-align: right;\n",
       "    }\n",
       "</style>\n",
       "<table border=\"1\" class=\"dataframe\">\n",
       "  <thead>\n",
       "    <tr style=\"text-align: right;\">\n",
       "      <th></th>\n",
       "      <th>Age</th>\n",
       "      <th>Gender</th>\n",
       "      <th>Height</th>\n",
       "      <th>ICUType</th>\n",
       "      <th>BUN_Min</th>\n",
       "      <th>Creatinine_Min</th>\n",
       "      <th>GCS_Min</th>\n",
       "      <th>Glucose_Min</th>\n",
       "      <th>HCO3_Min</th>\n",
       "      <th>HCT_Min</th>\n",
       "      <th>...</th>\n",
       "      <th>HR_Range</th>\n",
       "      <th>K_Range</th>\n",
       "      <th>Mg_Range</th>\n",
       "      <th>Na_Range</th>\n",
       "      <th>Platelets_Range</th>\n",
       "      <th>Temp_Range</th>\n",
       "      <th>Urine_Range</th>\n",
       "      <th>WBC_Range</th>\n",
       "      <th>Weight_Range</th>\n",
       "      <th>In-hospital_death</th>\n",
       "    </tr>\n",
       "  </thead>\n",
       "  <tbody>\n",
       "    <tr>\n",
       "      <th>count</th>\n",
       "      <td>4000.000000</td>\n",
       "      <td>4000.000000</td>\n",
       "      <td>4000.000000</td>\n",
       "      <td>4000.000000</td>\n",
       "      <td>4000.000000</td>\n",
       "      <td>4000.00000</td>\n",
       "      <td>4000.000000</td>\n",
       "      <td>4000.000000</td>\n",
       "      <td>4000.000000</td>\n",
       "      <td>4000.000000</td>\n",
       "      <td>...</td>\n",
       "      <td>4000.000000</td>\n",
       "      <td>4000.000000</td>\n",
       "      <td>4000.000000</td>\n",
       "      <td>4000.00000</td>\n",
       "      <td>4000.000000</td>\n",
       "      <td>4000.000000</td>\n",
       "      <td>4000.000000</td>\n",
       "      <td>4000.000000</td>\n",
       "      <td>4000.000000</td>\n",
       "      <td>4000.000000</td>\n",
       "    </tr>\n",
       "    <tr>\n",
       "      <th>mean</th>\n",
       "      <td>64.247500</td>\n",
       "      <td>0.560750</td>\n",
       "      <td>88.919475</td>\n",
       "      <td>2.760000</td>\n",
       "      <td>21.828000</td>\n",
       "      <td>1.17745</td>\n",
       "      <td>8.203000</td>\n",
       "      <td>108.514750</td>\n",
       "      <td>21.850650</td>\n",
       "      <td>28.618775</td>\n",
       "      <td>...</td>\n",
       "      <td>43.899775</td>\n",
       "      <td>0.795275</td>\n",
       "      <td>0.466750</td>\n",
       "      <td>3.78600</td>\n",
       "      <td>54.400250</td>\n",
       "      <td>2.886900</td>\n",
       "      <td>581.881175</td>\n",
       "      <td>4.568112</td>\n",
       "      <td>3.597792</td>\n",
       "      <td>0.138500</td>\n",
       "    </tr>\n",
       "    <tr>\n",
       "      <th>std</th>\n",
       "      <td>17.560946</td>\n",
       "      <td>0.497867</td>\n",
       "      <td>86.531203</td>\n",
       "      <td>1.002572</td>\n",
       "      <td>18.537633</td>\n",
       "      <td>1.19969</td>\n",
       "      <td>4.769379</td>\n",
       "      <td>29.464204</td>\n",
       "      <td>4.480034</td>\n",
       "      <td>5.306754</td>\n",
       "      <td>...</td>\n",
       "      <td>20.703657</td>\n",
       "      <td>0.794020</td>\n",
       "      <td>0.419587</td>\n",
       "      <td>3.23741</td>\n",
       "      <td>48.463127</td>\n",
       "      <td>5.992589</td>\n",
       "      <td>574.542954</td>\n",
       "      <td>4.854783</td>\n",
       "      <td>10.969927</td>\n",
       "      <td>0.345467</td>\n",
       "    </tr>\n",
       "    <tr>\n",
       "      <th>min</th>\n",
       "      <td>15.000000</td>\n",
       "      <td>-1.000000</td>\n",
       "      <td>-1.000000</td>\n",
       "      <td>1.000000</td>\n",
       "      <td>0.000000</td>\n",
       "      <td>0.10000</td>\n",
       "      <td>3.000000</td>\n",
       "      <td>10.000000</td>\n",
       "      <td>5.000000</td>\n",
       "      <td>9.000000</td>\n",
       "      <td>...</td>\n",
       "      <td>0.000000</td>\n",
       "      <td>0.000000</td>\n",
       "      <td>0.000000</td>\n",
       "      <td>0.00000</td>\n",
       "      <td>0.000000</td>\n",
       "      <td>0.000000</td>\n",
       "      <td>0.000000</td>\n",
       "      <td>0.000000</td>\n",
       "      <td>0.000000</td>\n",
       "      <td>0.000000</td>\n",
       "    </tr>\n",
       "    <tr>\n",
       "      <th>25%</th>\n",
       "      <td>52.750000</td>\n",
       "      <td>0.000000</td>\n",
       "      <td>-1.000000</td>\n",
       "      <td>2.000000</td>\n",
       "      <td>11.000000</td>\n",
       "      <td>0.60000</td>\n",
       "      <td>3.000000</td>\n",
       "      <td>91.000000</td>\n",
       "      <td>19.000000</td>\n",
       "      <td>25.000000</td>\n",
       "      <td>...</td>\n",
       "      <td>30.000000</td>\n",
       "      <td>0.400000</td>\n",
       "      <td>0.200000</td>\n",
       "      <td>2.00000</td>\n",
       "      <td>21.000000</td>\n",
       "      <td>1.400000</td>\n",
       "      <td>270.000000</td>\n",
       "      <td>1.600000</td>\n",
       "      <td>0.000000</td>\n",
       "      <td>0.000000</td>\n",
       "    </tr>\n",
       "    <tr>\n",
       "      <th>50%</th>\n",
       "      <td>67.000000</td>\n",
       "      <td>1.000000</td>\n",
       "      <td>152.400000</td>\n",
       "      <td>3.000000</td>\n",
       "      <td>16.000000</td>\n",
       "      <td>0.80000</td>\n",
       "      <td>7.000000</td>\n",
       "      <td>106.000000</td>\n",
       "      <td>22.000000</td>\n",
       "      <td>28.000000</td>\n",
       "      <td>...</td>\n",
       "      <td>40.000000</td>\n",
       "      <td>0.600000</td>\n",
       "      <td>0.400000</td>\n",
       "      <td>3.00000</td>\n",
       "      <td>42.000000</td>\n",
       "      <td>1.900000</td>\n",
       "      <td>430.000000</td>\n",
       "      <td>3.400000</td>\n",
       "      <td>0.000000</td>\n",
       "      <td>0.000000</td>\n",
       "    </tr>\n",
       "    <tr>\n",
       "      <th>75%</th>\n",
       "      <td>78.000000</td>\n",
       "      <td>1.000000</td>\n",
       "      <td>170.200000</td>\n",
       "      <td>4.000000</td>\n",
       "      <td>26.000000</td>\n",
       "      <td>1.20000</td>\n",
       "      <td>14.000000</td>\n",
       "      <td>123.000000</td>\n",
       "      <td>24.000000</td>\n",
       "      <td>31.900000</td>\n",
       "      <td>...</td>\n",
       "      <td>52.000000</td>\n",
       "      <td>1.000000</td>\n",
       "      <td>0.700000</td>\n",
       "      <td>5.00000</td>\n",
       "      <td>73.000000</td>\n",
       "      <td>2.500000</td>\n",
       "      <td>690.000000</td>\n",
       "      <td>6.100000</td>\n",
       "      <td>3.200000</td>\n",
       "      <td>0.000000</td>\n",
       "    </tr>\n",
       "    <tr>\n",
       "      <th>max</th>\n",
       "      <td>90.000000</td>\n",
       "      <td>1.000000</td>\n",
       "      <td>431.800000</td>\n",
       "      <td>4.000000</td>\n",
       "      <td>165.000000</td>\n",
       "      <td>13.30000</td>\n",
       "      <td>15.000000</td>\n",
       "      <td>298.000000</td>\n",
       "      <td>44.000000</td>\n",
       "      <td>60.300000</td>\n",
       "      <td>...</td>\n",
       "      <td>242.000000</td>\n",
       "      <td>20.800000</td>\n",
       "      <td>5.600000</td>\n",
       "      <td>40.00000</td>\n",
       "      <td>496.000000</td>\n",
       "      <td>57.100000</td>\n",
       "      <td>11000.000000</td>\n",
       "      <td>129.800000</td>\n",
       "      <td>236.000000</td>\n",
       "      <td>1.000000</td>\n",
       "    </tr>\n",
       "  </tbody>\n",
       "</table>\n",
       "<p>8 rows × 80 columns</p>\n",
       "</div>"
      ],
      "text/plain": [
       "               Age       Gender       Height      ICUType      BUN_Min  \\\n",
       "count  4000.000000  4000.000000  4000.000000  4000.000000  4000.000000   \n",
       "mean     64.247500     0.560750    88.919475     2.760000    21.828000   \n",
       "std      17.560946     0.497867    86.531203     1.002572    18.537633   \n",
       "min      15.000000    -1.000000    -1.000000     1.000000     0.000000   \n",
       "25%      52.750000     0.000000    -1.000000     2.000000    11.000000   \n",
       "50%      67.000000     1.000000   152.400000     3.000000    16.000000   \n",
       "75%      78.000000     1.000000   170.200000     4.000000    26.000000   \n",
       "max      90.000000     1.000000   431.800000     4.000000   165.000000   \n",
       "\n",
       "       Creatinine_Min      GCS_Min  Glucose_Min     HCO3_Min      HCT_Min  \\\n",
       "count      4000.00000  4000.000000  4000.000000  4000.000000  4000.000000   \n",
       "mean          1.17745     8.203000   108.514750    21.850650    28.618775   \n",
       "std           1.19969     4.769379    29.464204     4.480034     5.306754   \n",
       "min           0.10000     3.000000    10.000000     5.000000     9.000000   \n",
       "25%           0.60000     3.000000    91.000000    19.000000    25.000000   \n",
       "50%           0.80000     7.000000   106.000000    22.000000    28.000000   \n",
       "75%           1.20000    14.000000   123.000000    24.000000    31.900000   \n",
       "max          13.30000    15.000000   298.000000    44.000000    60.300000   \n",
       "\n",
       "       ...     HR_Range      K_Range     Mg_Range    Na_Range  \\\n",
       "count  ...  4000.000000  4000.000000  4000.000000  4000.00000   \n",
       "mean   ...    43.899775     0.795275     0.466750     3.78600   \n",
       "std    ...    20.703657     0.794020     0.419587     3.23741   \n",
       "min    ...     0.000000     0.000000     0.000000     0.00000   \n",
       "25%    ...    30.000000     0.400000     0.200000     2.00000   \n",
       "50%    ...    40.000000     0.600000     0.400000     3.00000   \n",
       "75%    ...    52.000000     1.000000     0.700000     5.00000   \n",
       "max    ...   242.000000    20.800000     5.600000    40.00000   \n",
       "\n",
       "       Platelets_Range   Temp_Range   Urine_Range    WBC_Range  Weight_Range  \\\n",
       "count      4000.000000  4000.000000   4000.000000  4000.000000   4000.000000   \n",
       "mean         54.400250     2.886900    581.881175     4.568112      3.597792   \n",
       "std          48.463127     5.992589    574.542954     4.854783     10.969927   \n",
       "min           0.000000     0.000000      0.000000     0.000000      0.000000   \n",
       "25%          21.000000     1.400000    270.000000     1.600000      0.000000   \n",
       "50%          42.000000     1.900000    430.000000     3.400000      0.000000   \n",
       "75%          73.000000     2.500000    690.000000     6.100000      3.200000   \n",
       "max         496.000000    57.100000  11000.000000   129.800000    236.000000   \n",
       "\n",
       "       In-hospital_death  \n",
       "count        4000.000000  \n",
       "mean            0.138500  \n",
       "std             0.345467  \n",
       "min             0.000000  \n",
       "25%             0.000000  \n",
       "50%             0.000000  \n",
       "75%             0.000000  \n",
       "max             1.000000  \n",
       "\n",
       "[8 rows x 80 columns]"
      ]
     },
     "execution_count": 350,
     "metadata": {},
     "output_type": "execute_result"
    }
   ],
   "source": [
    "hospital_data.describe()"
   ]
  },
  {
   "cell_type": "markdown",
   "metadata": {},
   "source": [
    "- Now we have 80 columns and 3997 samples in the dataset"
   ]
  },
  {
   "cell_type": "code",
   "execution_count": 351,
   "metadata": {},
   "outputs": [
    {
     "data": {
      "text/plain": [
       "0    3446\n",
       "1     554\n",
       "Name: In-hospital_death, dtype: int64"
      ]
     },
     "execution_count": 351,
     "metadata": {},
     "output_type": "execute_result"
    }
   ],
   "source": [
    "hospital_data['In-hospital_death'].value_counts()"
   ]
  },
  {
   "cell_type": "markdown",
   "metadata": {},
   "source": [
    "Over 86% of the values are 0 in the dataset, the data is quite imbalanced, and it will give us a biased model which will not work at all, if we do not balance it out.\n",
    " \n",
    "For Example If i say all the values are going to be zero, then in that case my Naive prediction will be 86% accurate, so the accuracy for a model that is doing nothing is also 86% which is deceitful. \n",
    " \n",
    "So I need to balance our training set, I balance the amount of zeros and 1's in the response variable. This way I can guarantee that whatever lift/accuracy I see in the model is as a result of model itself and not a random permutation on how many zeros and ones are in the response variable for the training set."
   ]
  },
  {
   "cell_type": "code",
   "execution_count": 363,
   "metadata": {},
   "outputs": [],
   "source": [
    "from sklearn.model_selection import train_test_split\n",
    "X_train, X_test, y_train, y_test = train_test_split(hospital_data.drop(columns=['In-hospital_death']), hospital_data['In-hospital_death'], \n",
    "                                                    test_size=0.2, random_state=0)\n"
   ]
  },
  {
   "cell_type": "code",
   "execution_count": 364,
   "metadata": {},
   "outputs": [
    {
     "data": {
      "text/plain": [
       "(800,)"
      ]
     },
     "execution_count": 364,
     "metadata": {},
     "output_type": "execute_result"
    }
   ],
   "source": [
    "X_train.shape\n",
    "y_train.shape\n",
    "X_test.shape\n",
    "y_test.shape"
   ]
  },
  {
   "cell_type": "code",
   "execution_count": 365,
   "metadata": {},
   "outputs": [],
   "source": [
    "# Finding the indexes of positive(1) and negative values(0) of the response variable\n",
    "pos_index=y_train[y_train.values==1].index\n",
    "neg_index=y_train[y_train.values==0].index\n",
    "\n",
    "if len(pos_index) >len(neg_index):\n",
    "    higher=pos_index\n",
    "    lower=neg_index\n",
    "else:\n",
    "    higher=neg_index\n",
    "    lower=pos_index\n",
    "    \n",
    "# Selecting which has higher number of counts, 0's or 1's"
   ]
  },
  {
   "cell_type": "code",
   "execution_count": 366,
   "metadata": {},
   "outputs": [],
   "source": [
    "import random\n",
    "random.seed(0)\n",
    "# setting the seed so that everytime we get the same values\n",
    "\n",
    "# remember higher is a list of indexes, either of 0 or 1's in the response variable in training set\n",
    "higher=np.random.choice(higher, size=len(lower))\n",
    "\n",
    "# It will randomly select indices of higher (be it 0's or 1's). and subset it to the length of lower indices.\n",
    "# e.g. say in the response variable there are 50 rows, out of which 30 are 1's and 20 are 0's.\n",
    "# Higher will contain the list of indices that have value 1, and there are 30 of it. Now we will subset these into the\n",
    "# length of lower which is 20, so we are randomly selecting 20 indices out of 20 from higher (which is a list of indices)\n",
    "\n",
    "lower=np.asarray(lower)\n",
    "# Because now higher is stored as np array, for consistency we convert lower also to a numpy array\n",
    "\n",
    "# Now our lower and higher (both are list of indices) are of same length.\n",
    "\n",
    "new_indexes=np.concatenate((lower,higher))\n",
    "# Combining lower and higher indexes, both of which have the same size\n",
    "\n",
    "X_train=pd.DataFrame(X_train)\n",
    "X_train=X_train.loc[new_indexes,]\n",
    "#Subsetting the X_train using new_indexes which have proportionate values of response variable, .loc selects the rows\n",
    "#.loc[row_index] and .loc[row_index,] does the same thing, selects the row number from index provided and all the columns\n",
    "\n",
    "y_train=y_train.loc[new_indexes]\n",
    "#Subsetting the y_train as well, so that it also holds equal proportion of the response variable"
   ]
  },
  {
   "cell_type": "code",
   "execution_count": 368,
   "metadata": {},
   "outputs": [],
   "source": [
    "from sklearn.preprocessing import StandardScaler\n",
    "scalar=StandardScaler()\n",
    "\n",
    "X_train2 = pd.DataFrame(scalar.fit_transform(X_train))\n",
    "X_test2= pd.DataFrame(scalar.fit_transform(X_test))\n",
    "\n",
    "# The reason I converted it into dataframe after transformation (normalization) is scalar returns a numpy array, \n",
    "# multidimensional number array, and when we do that, we lose the index of the rows and the column names. I saved it as another\n",
    "# dataframe having 2 as suffix is because i don't want to alter the original df and lose its index and column names\n",
    "\n",
    "X_train2.columns=X_train.columns.values\n",
    "X_test2.columns=X_test.columns.values\n",
    "\n",
    "X_train2.index=X_train.index.values\n",
    "X_test2.index=X_test.index.values\n",
    "\n",
    "# We have added back the index and column names to the transformed/normalized dataframes"
   ]
  },
  {
   "cell_type": "code",
   "execution_count": 369,
   "metadata": {},
   "outputs": [
    {
     "data": {
      "text/plain": [
       "(800,)"
      ]
     },
     "execution_count": 369,
     "metadata": {},
     "output_type": "execute_result"
    }
   ],
   "source": [
    "\n",
    "X_train=X_train2\n",
    "X_test=X_test2\n",
    "X_train.shape\n",
    "y_train.shape\n",
    "X_test.shape\n",
    "y_test.shape"
   ]
  },
  {
   "cell_type": "markdown",
   "metadata": {},
   "source": [
    "I have combined the test and train sets and again split them into test and training sets, because now I had almost equal values in test and training set, so i have again made the split after balancing out the dataset"
   ]
  },
  {
   "cell_type": "code",
   "execution_count": 370,
   "metadata": {},
   "outputs": [],
   "source": [
    "X=pd.concat([X_train,X_test], ignore_index=True)\n",
    "y=pd.concat([y_train,y_test], ignore_index=True)"
   ]
  },
  {
   "cell_type": "code",
   "execution_count": 371,
   "metadata": {},
   "outputs": [],
   "source": [
    "X_train, X_test, y_train, y_test = train_test_split(X, y, test_size=0.2, random_state=0)"
   ]
  },
  {
   "cell_type": "code",
   "execution_count": 372,
   "metadata": {},
   "outputs": [
    {
     "name": "stdout",
     "output_type": "stream",
     "text": [
      "(1345, 79)\n",
      "(1345,)\n",
      "(337, 79)\n",
      "(337,)\n"
     ]
    }
   ],
   "source": [
    "print(X_train.shape)\n",
    "print(y_train.shape)\n",
    "print(X_test.shape)\n",
    "print(y_test.shape)"
   ]
  },
  {
   "cell_type": "code",
   "execution_count": 389,
   "metadata": {},
   "outputs": [
    {
     "name": "stdout",
     "output_type": "stream",
     "text": [
      "Accuracy on training set: 0.965\n",
      "Accuracy on test set: 0.772\n"
     ]
    }
   ],
   "source": [
    "from sklearn.ensemble import RandomForestClassifier\n",
    "forest = RandomForestClassifier(n_estimators=40, random_state=0, max_features=9, max_depth=8)\n",
    "forest.fit(X_train, y_train)\n",
    "print(\"Accuracy on training set: {:.3f}\".format(forest.score(X_train, y_train)))\n",
    "print(\"Accuracy on test set: {:.3f}\".format(forest.score(X_test, y_test)))"
   ]
  },
  {
   "cell_type": "code",
   "execution_count": 374,
   "metadata": {},
   "outputs": [
    {
     "data": {
      "text/html": [
       "<div>\n",
       "<style scoped>\n",
       "    .dataframe tbody tr th:only-of-type {\n",
       "        vertical-align: middle;\n",
       "    }\n",
       "\n",
       "    .dataframe tbody tr th {\n",
       "        vertical-align: top;\n",
       "    }\n",
       "\n",
       "    .dataframe thead th {\n",
       "        text-align: right;\n",
       "    }\n",
       "</style>\n",
       "<table border=\"1\" class=\"dataframe\">\n",
       "  <thead>\n",
       "    <tr style=\"text-align: right;\">\n",
       "      <th></th>\n",
       "      <th>f1_score_test</th>\n",
       "      <th>f1_score_train</th>\n",
       "      <th>model</th>\n",
       "      <th>test_MSE</th>\n",
       "      <th>train_MSE</th>\n",
       "    </tr>\n",
       "  </thead>\n",
       "  <tbody>\n",
       "    <tr>\n",
       "      <th>0</th>\n",
       "      <td>0.635417</td>\n",
       "      <td>1.0</td>\n",
       "      <td>Random Forest</td>\n",
       "      <td>0.207715</td>\n",
       "      <td>0.0</td>\n",
       "    </tr>\n",
       "  </tbody>\n",
       "</table>\n",
       "</div>"
      ],
      "text/plain": [
       "   f1_score_test  f1_score_train          model  test_MSE  train_MSE\n",
       "0       0.635417             1.0  Random Forest  0.207715        0.0"
      ]
     },
     "execution_count": 374,
     "metadata": {},
     "output_type": "execute_result"
    }
   ],
   "source": [
    "from sklearn.metrics import r2_score, mean_squared_error, f1_score\n",
    "results=pd.DataFrame()\n",
    "train_MSE = mean_squared_error(y_train, forest.predict(X_train))\n",
    "test_MSE = mean_squared_error(y_test, forest.predict(X_test))\n",
    "f1_score_train=f1_score(y_train, forest.predict(X_train))\n",
    "f1_score_test=f1_score(y_test, forest.predict(X_test))\n",
    "results = results.append(pd.Series({'model':'Random Forest', 'train_MSE':train_MSE,'test_MSE':test_MSE,\n",
    "                                    'f1_score_train':f1_score_train,'f1_score_test':f1_score_test}),ignore_index=True )\n",
    "results"
   ]
  },
  {
   "cell_type": "code",
   "execution_count": 375,
   "metadata": {},
   "outputs": [
    {
     "name": "stderr",
     "output_type": "stream",
     "text": [
      "C:\\Users\\nick2\\AppData\\Local\\Programs\\Python\\Python37-32\\lib\\site-packages\\sklearn\\model_selection\\_split.py:2053: FutureWarning: You should specify a value for 'cv' instead of relying on the default value. The default value will change from 3 to 5 in version 0.22.\n",
      "  warnings.warn(CV_WARNING, FutureWarning)\n"
     ]
    },
    {
     "data": {
      "text/plain": [
       "RandomizedSearchCV(cv='warn', error_score='raise-deprecating',\n",
       "          estimator=RandomForestClassifier(bootstrap=True, class_weight=None, criterion='gini',\n",
       "            max_depth=None, max_features='auto', max_leaf_nodes=None,\n",
       "            min_impurity_decrease=0.0, min_impurity_split=None,\n",
       "            min_samples_leaf=1, min_samples_split=2,\n",
       "            min_weight_fraction_leaf=0.0, n_estimators=100, n_jobs=None,\n",
       "            oob_score=False, random_state=None, verbose=0,\n",
       "            warm_start=False),\n",
       "          fit_params=None, iid='warn', n_iter=20, n_jobs=-1,\n",
       "          param_distributions={'max_depth': [3, 5], 'max_features': <scipy.stats._distn_infrastructure.rv_frozen object at 0x1B2B7190>, 'min_samples_split': <scipy.stats._distn_infrastructure.rv_frozen object at 0x05BF0090>, 'min_samples_leaf': <scipy.stats._distn_infrastructure.rv_frozen object at 0x1B2A1750>, 'bootstrap': [True, False]},\n",
       "          pre_dispatch='2*n_jobs', random_state=0, refit=True,\n",
       "          return_train_score=True, scoring=None, verbose=0)"
      ]
     },
     "execution_count": 375,
     "metadata": {},
     "output_type": "execute_result"
    }
   ],
   "source": [
    "from sklearn.ensemble import RandomForestClassifier\n",
    "from sklearn.model_selection import RandomizedSearchCV\n",
    "from scipy.stats import randint as sp_randint\n",
    "\n",
    "#Tuning ridge on new dataset\n",
    "param_grid = {\"max_depth\": [3, 5],\n",
    "              \"max_features\": sp_randint(1, 40),\n",
    "              \"min_samples_split\": sp_randint(2, 30),\n",
    "              \"min_samples_leaf\": sp_randint(1, 20),\n",
    "              \"bootstrap\": [True, False]}\n",
    "random_search = RandomizedSearchCV(RandomForestClassifier(n_estimators=100), param_distributions=param_grid,\n",
    "                                   n_iter=20, random_state=0,n_jobs=-1, return_train_score=True)\n",
    "random_search.fit(X_train, y_train)"
   ]
  },
  {
   "cell_type": "code",
   "execution_count": 376,
   "metadata": {},
   "outputs": [
    {
     "data": {
      "text/plain": [
       "{'bootstrap': False,\n",
       " 'max_depth': 5,\n",
       " 'max_features': 36,\n",
       " 'min_samples_leaf': 7,\n",
       " 'min_samples_split': 25}"
      ]
     },
     "execution_count": 376,
     "metadata": {},
     "output_type": "execute_result"
    }
   ],
   "source": [
    "random_search.best_params_"
   ]
  },
  {
   "cell_type": "code",
   "execution_count": 377,
   "metadata": {},
   "outputs": [
    {
     "data": {
      "text/plain": [
       "0.758364312267658"
      ]
     },
     "execution_count": 377,
     "metadata": {},
     "output_type": "execute_result"
    }
   ],
   "source": [
    "random_search.best_score_"
   ]
  },
  {
   "cell_type": "code",
   "execution_count": 378,
   "metadata": {},
   "outputs": [
    {
     "name": "stderr",
     "output_type": "stream",
     "text": [
      "C:\\Users\\nick2\\AppData\\Local\\Programs\\Python\\Python37-32\\lib\\site-packages\\sklearn\\ensemble\\forest.py:246: FutureWarning: The default value of n_estimators will change from 10 in version 0.20 to 100 in 0.22.\n",
      "  \"10 in version 0.20 to 100 in 0.22.\", FutureWarning)\n"
     ]
    },
    {
     "data": {
      "text/html": [
       "<div>\n",
       "<style scoped>\n",
       "    .dataframe tbody tr th:only-of-type {\n",
       "        vertical-align: middle;\n",
       "    }\n",
       "\n",
       "    .dataframe tbody tr th {\n",
       "        vertical-align: top;\n",
       "    }\n",
       "\n",
       "    .dataframe thead th {\n",
       "        text-align: right;\n",
       "    }\n",
       "</style>\n",
       "<table border=\"1\" class=\"dataframe\">\n",
       "  <thead>\n",
       "    <tr style=\"text-align: right;\">\n",
       "      <th></th>\n",
       "      <th>f1_score_test</th>\n",
       "      <th>f1_score_train</th>\n",
       "      <th>model</th>\n",
       "      <th>test_MSE</th>\n",
       "      <th>train_MSE</th>\n",
       "      <th>test_Rsquare</th>\n",
       "      <th>train_Rsquare</th>\n",
       "    </tr>\n",
       "  </thead>\n",
       "  <tbody>\n",
       "    <tr>\n",
       "      <th>0</th>\n",
       "      <td>0.635417</td>\n",
       "      <td>1.000000</td>\n",
       "      <td>Random Forest</td>\n",
       "      <td>0.207715</td>\n",
       "      <td>0.000000</td>\n",
       "      <td>NaN</td>\n",
       "      <td>NaN</td>\n",
       "    </tr>\n",
       "    <tr>\n",
       "      <th>1</th>\n",
       "      <td>0.579235</td>\n",
       "      <td>0.684507</td>\n",
       "      <td>Random Forest</td>\n",
       "      <td>0.228487</td>\n",
       "      <td>0.166543</td>\n",
       "      <td>0.771513</td>\n",
       "      <td>0.833457</td>\n",
       "    </tr>\n",
       "  </tbody>\n",
       "</table>\n",
       "</div>"
      ],
      "text/plain": [
       "   f1_score_test  f1_score_train          model  test_MSE  train_MSE  \\\n",
       "0       0.635417        1.000000  Random Forest  0.207715   0.000000   \n",
       "1       0.579235        0.684507  Random Forest  0.228487   0.166543   \n",
       "\n",
       "   test_Rsquare  train_Rsquare  \n",
       "0           NaN            NaN  \n",
       "1      0.771513       0.833457  "
      ]
     },
     "execution_count": 378,
     "metadata": {},
     "output_type": "execute_result"
    }
   ],
   "source": [
    "rf_clf = RandomForestClassifier(bootstrap=True,max_depth=5,max_features=10,min_samples_leaf=1,min_samples_split=12)\n",
    "rf_clf.fit(X_train,y_train)\n",
    "y_rf_clf = rf_clf.predict(X_test)\n",
    "train_Rsquare = rf_clf.score(X_train, y_train)\n",
    "test_Rsquare = rf_clf.score(X_test, y_test)\n",
    "train_MSE = mean_squared_error(y_train, rf_clf.predict(X_train))\n",
    "test_MSE = mean_squared_error(y_test, rf_clf.predict(X_test))\n",
    "f1_score_train=f1_score(y_train, rf_clf.predict(X_train))\n",
    "f1_score_test=f1_score(y_test, rf_clf.predict(X_test))\n",
    "results = results.append(pd.Series({'model':'Random Forest','train_Rsquare':train_Rsquare, 'test_Rsquare':test_Rsquare, 'train_MSE':train_MSE,'test_MSE':test_MSE,\n",
    "                                    'f1_score_train':f1_score_train,'f1_score_test':f1_score_test}),ignore_index=True )\n",
    "results"
   ]
  },
  {
   "cell_type": "markdown",
   "metadata": {},
   "source": [
    "I have tried using Random Forest for classification, getting a F1 score of 63%"
   ]
  }
 ],
 "metadata": {
  "kernelspec": {
   "display_name": "Python 3",
   "language": "python",
   "name": "python3"
  },
  "language_info": {
   "codemirror_mode": {
    "name": "ipython",
    "version": 3
   },
   "file_extension": ".py",
   "mimetype": "text/x-python",
   "name": "python",
   "nbconvert_exporter": "python",
   "pygments_lexer": "ipython3",
   "version": "3.7.2"
  }
 },
 "nbformat": 4,
 "nbformat_minor": 2
}
